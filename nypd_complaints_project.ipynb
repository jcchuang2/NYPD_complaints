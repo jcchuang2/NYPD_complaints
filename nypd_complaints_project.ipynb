{
 "cells": [
  {
   "attachments": {},
   "cell_type": "markdown",
   "metadata": {},
   "source": [
    "# Civilian Complaints Against NYPD Officers\n",
    "\n",
    "Joshua Chuang, Kevin Bui\n"
   ]
  },
  {
   "attachments": {},
   "cell_type": "markdown",
   "metadata": {},
   "source": [
    "### Summary of Findings\n",
    "\n",
    "#### Introduction\n",
    "\n",
    "We will be using the free data set Civilian Complaints Against New York City Police Officers found on ProPublic Data Store. The dataset consists of \"more than 12,000 civilan complaints filed against New York City police officers\" from September 1985 to January 2020. Each data entry includes information about the officer and the complainant. It also includes details about the alleged misconduct, including the allegation, contact reason, and the conclusion of the CCRB. Having information about the officer and the complainant, including their genders, and the disposition of the cases, we can answer the question: \"Are white officer vs. non-white complainant cases more likely to go against the complainant?\".\n"
   ]
  },
  {
   "attachments": {},
   "cell_type": "markdown",
   "metadata": {},
   "source": [
    "#### Cleaning and EDA\n",
    "\n",
    "We cleaned the data through several means. We first converted the month and year received and month and year closed to datatime objects. Using the datetime objects, we found the elapsed duration of each case. We also replaced missing and invalid entries with nan values. Some of these are missing as people often will refuse or skip answering questions related to personal information. We formated the gender columns to match, changing \"M\" and \"F\" values to \"Male\" and \"Female\". Lastly, we simplified the board_disposition column so that all the values of substantiated were the same.\n",
    "\n",
    "In our EDA, we looked at the proportion of cases that were exonerated, substantiated, or unsubstantiated to create a bar plot by grouping the \"disposition_simplified\" column we created in our cleaning process. It seems that the majority of the conclusions of the complaints resulted in no action taken against the officer with unsubstantiated and exonerated making 75.115% of the conclusions. Only a small amount of the complaints result in the disciplining of the officer. The large proportion of unsubstantiated could be due to the uncooperation of the NYPD at times to provide evidence relating to the incident as stated in the readme file of the data.\n",
    "\n",
    "We also created another bar plot to look at the average complainant time open for a case for each the complainant's ethnicities.\n",
    "\n",
    "Lastly, we observed the proporition that each race was substantiated by grouping the complainant's ethnicies and aggregating the total substantiated divided by the total number of the complaintant for each respective ethnicity.\n"
   ]
  },
  {
   "attachments": {},
   "cell_type": "markdown",
   "metadata": {},
   "source": [
    "#### Assessment of Missingness\n",
    "\n",
    "Complainant ethnicity, gender, and age make up the majority of the missing values in the dataset. This could be due to the complainant not wanting these values to affect the board disposition. For example, some values like being of \"black\" ethnicity could cause the decision to be less in favor of the complainant due to racial bias, causing some complainants to not disclose their ethnicity. This would make the missingness of these columns not missing at random (NMAR).\n",
    "\n",
    "* We tested if the missingness of complainant_ethnicity is dependent on mos_gender. Using a permutation test and a significance value of 0.05, we found a p-value of 0.068. As a result, we conclude that complainant_ethnicity is not dependent on mos_gender.\n",
    "\n",
    "* We tested if the missingness of complainant_ethnicity is dependent on allegation. Also using a permutation test and significance level of 0.05, we found a p-value of 0.0. As a result, we conclude that complainant_ethnicity is dependent on allegation and that complainant_ethnicity is MAR."
   ]
  },
  {
   "attachments": {},
   "cell_type": "markdown",
   "metadata": {},
   "source": [
    "#### Hypothesis Test\n",
    "\n",
    "We conducted a permutation test to answer the question: \"Are white officer vs. non-white complainant cases more likely to go against the complainant?\". In the test, we shuffled ethnicity of complainant and only looked at cases involving white officers. We established our null hypothesis as the complainant's ethnicity of being non-white vs white will not make the case more likely to be against the complainant (diff_means = 0) while our alternative hypothesis supports the opposite that it is more likely to go against the complainant (diff_means > 0). Using a test statistic of difference of means and a significance level of 0.05, we got a p-value of 0.018. Because the p-value is less than 0.05, we reject the null hypothesis in favor of the alternative hypothesis. This means that there is a correlation between the complainant being non-white and the case being more likely to not result in substantiation.\n"
   ]
  },
  {
   "attachments": {},
   "cell_type": "markdown",
   "metadata": {},
   "source": [
    "### Code"
   ]
  },
  {
   "cell_type": "code",
   "execution_count": 1,
   "metadata": {},
   "outputs": [],
   "source": [
    "import matplotlib.pyplot as plt\n",
    "import numpy as np\n",
    "import os\n",
    "import pandas as pd\n",
    "import seaborn as sns\n",
    "import re"
   ]
  },
  {
   "attachments": {},
   "cell_type": "markdown",
   "metadata": {},
   "source": [
    "#### Cleaning and EDA\n",
    "\n",
    "Loading in data set from csv file."
   ]
  },
  {
   "cell_type": "code",
   "execution_count": 2,
   "metadata": {},
   "outputs": [],
   "source": [
    "#Loading in Data\n",
    "complaints = pd.read_csv('nypd_civilian_complaints.csv')"
   ]
  },
  {
   "attachments": {},
   "cell_type": "markdown",
   "metadata": {},
   "source": [
    "Original, uncleaned data set"
   ]
  },
  {
   "cell_type": "code",
   "execution_count": 3,
   "metadata": {},
   "outputs": [
    {
     "data": {
      "text/html": [
       "<div>\n",
       "<style scoped>\n",
       "    .dataframe tbody tr th:only-of-type {\n",
       "        vertical-align: middle;\n",
       "    }\n",
       "\n",
       "    .dataframe tbody tr th {\n",
       "        vertical-align: top;\n",
       "    }\n",
       "\n",
       "    .dataframe thead th {\n",
       "        text-align: right;\n",
       "    }\n",
       "</style>\n",
       "<table border=\"1\" class=\"dataframe\">\n",
       "  <thead>\n",
       "    <tr style=\"text-align: right;\">\n",
       "      <th></th>\n",
       "      <th>unique_mos_id</th>\n",
       "      <th>first_name</th>\n",
       "      <th>last_name</th>\n",
       "      <th>command_now</th>\n",
       "      <th>shield_no</th>\n",
       "      <th>complaint_id</th>\n",
       "      <th>month_received</th>\n",
       "      <th>year_received</th>\n",
       "      <th>month_closed</th>\n",
       "      <th>year_closed</th>\n",
       "      <th>...</th>\n",
       "      <th>mos_age_incident</th>\n",
       "      <th>complainant_ethnicity</th>\n",
       "      <th>complainant_gender</th>\n",
       "      <th>complainant_age_incident</th>\n",
       "      <th>fado_type</th>\n",
       "      <th>allegation</th>\n",
       "      <th>precinct</th>\n",
       "      <th>contact_reason</th>\n",
       "      <th>outcome_description</th>\n",
       "      <th>board_disposition</th>\n",
       "    </tr>\n",
       "  </thead>\n",
       "  <tbody>\n",
       "    <tr>\n",
       "      <th>0</th>\n",
       "      <td>10004</td>\n",
       "      <td>Jonathan</td>\n",
       "      <td>Ruiz</td>\n",
       "      <td>078 PCT</td>\n",
       "      <td>8409</td>\n",
       "      <td>42835</td>\n",
       "      <td>7</td>\n",
       "      <td>2019</td>\n",
       "      <td>5</td>\n",
       "      <td>2020</td>\n",
       "      <td>...</td>\n",
       "      <td>32</td>\n",
       "      <td>Black</td>\n",
       "      <td>Female</td>\n",
       "      <td>38.0</td>\n",
       "      <td>Abuse of Authority</td>\n",
       "      <td>Failure to provide RTKA card</td>\n",
       "      <td>78.0</td>\n",
       "      <td>Report-domestic dispute</td>\n",
       "      <td>No arrest made or summons issued</td>\n",
       "      <td>Substantiated (Command Lvl Instructions)</td>\n",
       "    </tr>\n",
       "    <tr>\n",
       "      <th>1</th>\n",
       "      <td>10007</td>\n",
       "      <td>John</td>\n",
       "      <td>Sears</td>\n",
       "      <td>078 PCT</td>\n",
       "      <td>5952</td>\n",
       "      <td>24601</td>\n",
       "      <td>11</td>\n",
       "      <td>2011</td>\n",
       "      <td>8</td>\n",
       "      <td>2012</td>\n",
       "      <td>...</td>\n",
       "      <td>24</td>\n",
       "      <td>Black</td>\n",
       "      <td>Male</td>\n",
       "      <td>26.0</td>\n",
       "      <td>Discourtesy</td>\n",
       "      <td>Action</td>\n",
       "      <td>67.0</td>\n",
       "      <td>Moving violation</td>\n",
       "      <td>Moving violation summons issued</td>\n",
       "      <td>Substantiated (Charges)</td>\n",
       "    </tr>\n",
       "    <tr>\n",
       "      <th>2</th>\n",
       "      <td>10007</td>\n",
       "      <td>John</td>\n",
       "      <td>Sears</td>\n",
       "      <td>078 PCT</td>\n",
       "      <td>5952</td>\n",
       "      <td>24601</td>\n",
       "      <td>11</td>\n",
       "      <td>2011</td>\n",
       "      <td>8</td>\n",
       "      <td>2012</td>\n",
       "      <td>...</td>\n",
       "      <td>24</td>\n",
       "      <td>Black</td>\n",
       "      <td>Male</td>\n",
       "      <td>26.0</td>\n",
       "      <td>Offensive Language</td>\n",
       "      <td>Race</td>\n",
       "      <td>67.0</td>\n",
       "      <td>Moving violation</td>\n",
       "      <td>Moving violation summons issued</td>\n",
       "      <td>Substantiated (Charges)</td>\n",
       "    </tr>\n",
       "    <tr>\n",
       "      <th>3</th>\n",
       "      <td>10007</td>\n",
       "      <td>John</td>\n",
       "      <td>Sears</td>\n",
       "      <td>078 PCT</td>\n",
       "      <td>5952</td>\n",
       "      <td>26146</td>\n",
       "      <td>7</td>\n",
       "      <td>2012</td>\n",
       "      <td>9</td>\n",
       "      <td>2013</td>\n",
       "      <td>...</td>\n",
       "      <td>25</td>\n",
       "      <td>Black</td>\n",
       "      <td>Male</td>\n",
       "      <td>45.0</td>\n",
       "      <td>Abuse of Authority</td>\n",
       "      <td>Question</td>\n",
       "      <td>67.0</td>\n",
       "      <td>PD suspected C/V of violation/crime - street</td>\n",
       "      <td>No arrest made or summons issued</td>\n",
       "      <td>Substantiated (Charges)</td>\n",
       "    </tr>\n",
       "    <tr>\n",
       "      <th>4</th>\n",
       "      <td>10009</td>\n",
       "      <td>Noemi</td>\n",
       "      <td>Sierra</td>\n",
       "      <td>078 PCT</td>\n",
       "      <td>24058</td>\n",
       "      <td>40253</td>\n",
       "      <td>8</td>\n",
       "      <td>2018</td>\n",
       "      <td>2</td>\n",
       "      <td>2019</td>\n",
       "      <td>...</td>\n",
       "      <td>39</td>\n",
       "      <td>NaN</td>\n",
       "      <td>NaN</td>\n",
       "      <td>16.0</td>\n",
       "      <td>Force</td>\n",
       "      <td>Physical force</td>\n",
       "      <td>67.0</td>\n",
       "      <td>Report-dispute</td>\n",
       "      <td>Arrest - other violation/crime</td>\n",
       "      <td>Substantiated (Command Discipline A)</td>\n",
       "    </tr>\n",
       "  </tbody>\n",
       "</table>\n",
       "<p>5 rows × 27 columns</p>\n",
       "</div>"
      ],
      "text/plain": [
       "   unique_mos_id first_name last_name command_now  shield_no  complaint_id  \\\n",
       "0          10004   Jonathan      Ruiz     078 PCT       8409         42835   \n",
       "1          10007       John     Sears     078 PCT       5952         24601   \n",
       "2          10007       John     Sears     078 PCT       5952         24601   \n",
       "3          10007       John     Sears     078 PCT       5952         26146   \n",
       "4          10009      Noemi    Sierra     078 PCT      24058         40253   \n",
       "\n",
       "   month_received  year_received  month_closed  year_closed  ...  \\\n",
       "0               7           2019             5         2020  ...   \n",
       "1              11           2011             8         2012  ...   \n",
       "2              11           2011             8         2012  ...   \n",
       "3               7           2012             9         2013  ...   \n",
       "4               8           2018             2         2019  ...   \n",
       "\n",
       "  mos_age_incident complainant_ethnicity complainant_gender  \\\n",
       "0               32                 Black             Female   \n",
       "1               24                 Black               Male   \n",
       "2               24                 Black               Male   \n",
       "3               25                 Black               Male   \n",
       "4               39                   NaN                NaN   \n",
       "\n",
       "  complainant_age_incident           fado_type                    allegation  \\\n",
       "0                     38.0  Abuse of Authority  Failure to provide RTKA card   \n",
       "1                     26.0         Discourtesy                        Action   \n",
       "2                     26.0  Offensive Language                          Race   \n",
       "3                     45.0  Abuse of Authority                      Question   \n",
       "4                     16.0               Force                Physical force   \n",
       "\n",
       "  precinct                                contact_reason  \\\n",
       "0     78.0                       Report-domestic dispute   \n",
       "1     67.0                              Moving violation   \n",
       "2     67.0                              Moving violation   \n",
       "3     67.0  PD suspected C/V of violation/crime - street   \n",
       "4     67.0                                Report-dispute   \n",
       "\n",
       "                outcome_description                         board_disposition  \n",
       "0  No arrest made or summons issued  Substantiated (Command Lvl Instructions)  \n",
       "1   Moving violation summons issued                   Substantiated (Charges)  \n",
       "2   Moving violation summons issued                   Substantiated (Charges)  \n",
       "3  No arrest made or summons issued                   Substantiated (Charges)  \n",
       "4    Arrest - other violation/crime      Substantiated (Command Discipline A)  \n",
       "\n",
       "[5 rows x 27 columns]"
      ]
     },
     "execution_count": 3,
     "metadata": {},
     "output_type": "execute_result"
    }
   ],
   "source": [
    "complaints.head()"
   ]
  },
  {
   "attachments": {},
   "cell_type": "markdown",
   "metadata": {},
   "source": [
    "Data cleaning to extract the datetime from the data, filling in the \"missing\" data with null values,\n",
    "and standardizing the \"mos_gender\" column to have same format as \"complainant_gender\""
   ]
  },
  {
   "cell_type": "code",
   "execution_count": 4,
   "metadata": {},
   "outputs": [],
   "source": [
    "#Data Cleaning\n",
    "complaints['timestamp_received'] = (complaints['year_received'].apply(str) + '-' + complaints['month_received'].apply(str) + '-1').apply(pd.to_datetime)\n",
    "complaints['timestamp_closed'] = (complaints['year_closed'].apply(str) + '-' +\n",
    "complaints['month_closed'].apply(str) + '-1').apply(pd.to_datetime)\n",
    "complaints['time_open'] = complaints['timestamp_closed'] - complaints['timestamp_received']\n",
    "complaints = complaints.replace('Unknown', np.NaN).replace('Not described', np.NaN).replace('Refused', np.NaN)\n",
    "complaints['mos_gender'] = complaints['mos_gender'].replace({'M': 'Male', 'F': 'Female'})\n",
    "complaints['disposition_simplified'] = complaints['board_disposition'].replace(regex = r'Substantiated.*', value = 'Substantiated')\n"
   ]
  },
  {
   "attachments": {},
   "cell_type": "markdown",
   "metadata": {},
   "source": [
    "Preview of Cleaned Data Set"
   ]
  },
  {
   "cell_type": "code",
   "execution_count": 5,
   "metadata": {},
   "outputs": [
    {
     "data": {
      "text/html": [
       "<div>\n",
       "<style scoped>\n",
       "    .dataframe tbody tr th:only-of-type {\n",
       "        vertical-align: middle;\n",
       "    }\n",
       "\n",
       "    .dataframe tbody tr th {\n",
       "        vertical-align: top;\n",
       "    }\n",
       "\n",
       "    .dataframe thead th {\n",
       "        text-align: right;\n",
       "    }\n",
       "</style>\n",
       "<table border=\"1\" class=\"dataframe\">\n",
       "  <thead>\n",
       "    <tr style=\"text-align: right;\">\n",
       "      <th></th>\n",
       "      <th>unique_mos_id</th>\n",
       "      <th>first_name</th>\n",
       "      <th>last_name</th>\n",
       "      <th>command_now</th>\n",
       "      <th>shield_no</th>\n",
       "      <th>complaint_id</th>\n",
       "      <th>month_received</th>\n",
       "      <th>year_received</th>\n",
       "      <th>month_closed</th>\n",
       "      <th>year_closed</th>\n",
       "      <th>...</th>\n",
       "      <th>fado_type</th>\n",
       "      <th>allegation</th>\n",
       "      <th>precinct</th>\n",
       "      <th>contact_reason</th>\n",
       "      <th>outcome_description</th>\n",
       "      <th>board_disposition</th>\n",
       "      <th>timestamp_received</th>\n",
       "      <th>timestamp_closed</th>\n",
       "      <th>time_open</th>\n",
       "      <th>disposition_simplified</th>\n",
       "    </tr>\n",
       "  </thead>\n",
       "  <tbody>\n",
       "    <tr>\n",
       "      <th>0</th>\n",
       "      <td>10004</td>\n",
       "      <td>Jonathan</td>\n",
       "      <td>Ruiz</td>\n",
       "      <td>078 PCT</td>\n",
       "      <td>8409</td>\n",
       "      <td>42835</td>\n",
       "      <td>7</td>\n",
       "      <td>2019</td>\n",
       "      <td>5</td>\n",
       "      <td>2020</td>\n",
       "      <td>...</td>\n",
       "      <td>Abuse of Authority</td>\n",
       "      <td>Failure to provide RTKA card</td>\n",
       "      <td>78.0</td>\n",
       "      <td>Report-domestic dispute</td>\n",
       "      <td>No arrest made or summons issued</td>\n",
       "      <td>Substantiated (Command Lvl Instructions)</td>\n",
       "      <td>2019-07-01</td>\n",
       "      <td>2020-05-01</td>\n",
       "      <td>305 days</td>\n",
       "      <td>Substantiated</td>\n",
       "    </tr>\n",
       "    <tr>\n",
       "      <th>1</th>\n",
       "      <td>10007</td>\n",
       "      <td>John</td>\n",
       "      <td>Sears</td>\n",
       "      <td>078 PCT</td>\n",
       "      <td>5952</td>\n",
       "      <td>24601</td>\n",
       "      <td>11</td>\n",
       "      <td>2011</td>\n",
       "      <td>8</td>\n",
       "      <td>2012</td>\n",
       "      <td>...</td>\n",
       "      <td>Discourtesy</td>\n",
       "      <td>Action</td>\n",
       "      <td>67.0</td>\n",
       "      <td>Moving violation</td>\n",
       "      <td>Moving violation summons issued</td>\n",
       "      <td>Substantiated (Charges)</td>\n",
       "      <td>2011-11-01</td>\n",
       "      <td>2012-08-01</td>\n",
       "      <td>274 days</td>\n",
       "      <td>Substantiated</td>\n",
       "    </tr>\n",
       "    <tr>\n",
       "      <th>2</th>\n",
       "      <td>10007</td>\n",
       "      <td>John</td>\n",
       "      <td>Sears</td>\n",
       "      <td>078 PCT</td>\n",
       "      <td>5952</td>\n",
       "      <td>24601</td>\n",
       "      <td>11</td>\n",
       "      <td>2011</td>\n",
       "      <td>8</td>\n",
       "      <td>2012</td>\n",
       "      <td>...</td>\n",
       "      <td>Offensive Language</td>\n",
       "      <td>Race</td>\n",
       "      <td>67.0</td>\n",
       "      <td>Moving violation</td>\n",
       "      <td>Moving violation summons issued</td>\n",
       "      <td>Substantiated (Charges)</td>\n",
       "      <td>2011-11-01</td>\n",
       "      <td>2012-08-01</td>\n",
       "      <td>274 days</td>\n",
       "      <td>Substantiated</td>\n",
       "    </tr>\n",
       "    <tr>\n",
       "      <th>3</th>\n",
       "      <td>10007</td>\n",
       "      <td>John</td>\n",
       "      <td>Sears</td>\n",
       "      <td>078 PCT</td>\n",
       "      <td>5952</td>\n",
       "      <td>26146</td>\n",
       "      <td>7</td>\n",
       "      <td>2012</td>\n",
       "      <td>9</td>\n",
       "      <td>2013</td>\n",
       "      <td>...</td>\n",
       "      <td>Abuse of Authority</td>\n",
       "      <td>Question</td>\n",
       "      <td>67.0</td>\n",
       "      <td>PD suspected C/V of violation/crime - street</td>\n",
       "      <td>No arrest made or summons issued</td>\n",
       "      <td>Substantiated (Charges)</td>\n",
       "      <td>2012-07-01</td>\n",
       "      <td>2013-09-01</td>\n",
       "      <td>427 days</td>\n",
       "      <td>Substantiated</td>\n",
       "    </tr>\n",
       "    <tr>\n",
       "      <th>4</th>\n",
       "      <td>10009</td>\n",
       "      <td>Noemi</td>\n",
       "      <td>Sierra</td>\n",
       "      <td>078 PCT</td>\n",
       "      <td>24058</td>\n",
       "      <td>40253</td>\n",
       "      <td>8</td>\n",
       "      <td>2018</td>\n",
       "      <td>2</td>\n",
       "      <td>2019</td>\n",
       "      <td>...</td>\n",
       "      <td>Force</td>\n",
       "      <td>Physical force</td>\n",
       "      <td>67.0</td>\n",
       "      <td>Report-dispute</td>\n",
       "      <td>Arrest - other violation/crime</td>\n",
       "      <td>Substantiated (Command Discipline A)</td>\n",
       "      <td>2018-08-01</td>\n",
       "      <td>2019-02-01</td>\n",
       "      <td>184 days</td>\n",
       "      <td>Substantiated</td>\n",
       "    </tr>\n",
       "  </tbody>\n",
       "</table>\n",
       "<p>5 rows × 31 columns</p>\n",
       "</div>"
      ],
      "text/plain": [
       "   unique_mos_id first_name last_name command_now  shield_no  complaint_id  \\\n",
       "0          10004   Jonathan      Ruiz     078 PCT       8409         42835   \n",
       "1          10007       John     Sears     078 PCT       5952         24601   \n",
       "2          10007       John     Sears     078 PCT       5952         24601   \n",
       "3          10007       John     Sears     078 PCT       5952         26146   \n",
       "4          10009      Noemi    Sierra     078 PCT      24058         40253   \n",
       "\n",
       "   month_received  year_received  month_closed  year_closed  ...  \\\n",
       "0               7           2019             5         2020  ...   \n",
       "1              11           2011             8         2012  ...   \n",
       "2              11           2011             8         2012  ...   \n",
       "3               7           2012             9         2013  ...   \n",
       "4               8           2018             2         2019  ...   \n",
       "\n",
       "            fado_type                    allegation precinct  \\\n",
       "0  Abuse of Authority  Failure to provide RTKA card     78.0   \n",
       "1         Discourtesy                        Action     67.0   \n",
       "2  Offensive Language                          Race     67.0   \n",
       "3  Abuse of Authority                      Question     67.0   \n",
       "4               Force                Physical force     67.0   \n",
       "\n",
       "                                 contact_reason  \\\n",
       "0                       Report-domestic dispute   \n",
       "1                              Moving violation   \n",
       "2                              Moving violation   \n",
       "3  PD suspected C/V of violation/crime - street   \n",
       "4                                Report-dispute   \n",
       "\n",
       "                outcome_description                         board_disposition  \\\n",
       "0  No arrest made or summons issued  Substantiated (Command Lvl Instructions)   \n",
       "1   Moving violation summons issued                   Substantiated (Charges)   \n",
       "2   Moving violation summons issued                   Substantiated (Charges)   \n",
       "3  No arrest made or summons issued                   Substantiated (Charges)   \n",
       "4    Arrest - other violation/crime      Substantiated (Command Discipline A)   \n",
       "\n",
       "  timestamp_received  timestamp_closed time_open disposition_simplified  \n",
       "0         2019-07-01        2020-05-01  305 days          Substantiated  \n",
       "1         2011-11-01        2012-08-01  274 days          Substantiated  \n",
       "2         2011-11-01        2012-08-01  274 days          Substantiated  \n",
       "3         2012-07-01        2013-09-01  427 days          Substantiated  \n",
       "4         2018-08-01        2019-02-01  184 days          Substantiated  \n",
       "\n",
       "[5 rows x 31 columns]"
      ]
     },
     "execution_count": 5,
     "metadata": {},
     "output_type": "execute_result"
    }
   ],
   "source": [
    "complaints.head()\n"
   ]
  },
  {
   "attachments": {},
   "cell_type": "markdown",
   "metadata": {},
   "source": [
    "Analyzing the proportion of each type of case:\n",
    "* Exonerated\n",
    "* Substantiated\n",
    "* Unsubstantiated"
   ]
  },
  {
   "cell_type": "code",
   "execution_count": 6,
   "metadata": {},
   "outputs": [
    {
     "data": {
      "text/plain": [
       "<AxesSubplot: title={'center': 'Result Proportions of Cases'}, xlabel='disposition_simplified'>"
      ]
     },
     "execution_count": 6,
     "metadata": {},
     "output_type": "execute_result"
    },
    {
     "data": {
      "image/png": "[encoded data removed]",
      "text/plain": [
       "<Figure size 432x288 with 1 Axes>"
      ]
     },
     "metadata": {
      "needs_background": "light"
     },
     "output_type": "display_data"
    }
   ],
   "source": [
    "#Univariate Analysis\n",
    "disposition_counts = complaints.groupby('disposition_simplified')['unique_mos_id'].count()\n",
    "\n",
    "(disposition_counts/disposition_counts.sum()).plot(\n",
    "    kind = 'bar', color = ['red', 'blue', 'green'],\n",
    "    title = 'Result Proportions of Cases'\n",
    ")\n"
   ]
  },
  {
   "attachments": {},
   "cell_type": "markdown",
   "metadata": {},
   "source": [
    "It seems that the majority of the conclusions of the complaints resulted in no action taken against the officer with unsubstantiated and exonerated making 75.115% of the conclusions. Only a small amount of the complaints result in the disciplining of the officer. The large proportion of unsubstantiated could be due to the uncooperation of the NYPD to provide evidence relating to the incident as stated in the readme file of the data.\n"
   ]
  },
  {
   "cell_type": "code",
   "execution_count": 7,
   "metadata": {},
   "outputs": [
    {
     "data": {
      "text/plain": [
       "0.7511541459320104"
      ]
     },
     "execution_count": 7,
     "metadata": {},
     "output_type": "execute_result"
    }
   ],
   "source": [
    "#non-substantiated proportion of cases\n",
    "(disposition_counts/disposition_counts.sum())[['Exonerated', 'Unsubstantiated']].sum()\n"
   ]
  },
  {
   "attachments": {},
   "cell_type": "markdown",
   "metadata": {},
   "source": [
    "Comparing the average time the case was opened for the ethnicities of the complainants."
   ]
  },
  {
   "cell_type": "code",
   "execution_count": 8,
   "metadata": {},
   "outputs": [
    {
     "data": {
      "text/plain": [
       "[Text(0, 0.5, 'time_open (days)'),\n",
       " Text(0.5, 1.0, 'Complaint Time Open By Ethnicity')]"
      ]
     },
     "execution_count": 8,
     "metadata": {},
     "output_type": "execute_result"
    },
    {
     "data": {
      "image/png": "[encoded data removed]",
      "text/plain": [
       "<Figure size 432x288 with 1 Axes>"
      ]
     },
     "metadata": {
      "needs_background": "light"
     },
     "output_type": "display_data"
    }
   ],
   "source": [
    "#Bivariate Analysis\n",
    "ethnicity_time = (\n",
    "    complaints[['complainant_ethnicity', 'time_open']]\n",
    "    .replace(np.NaN, 'Unknown').groupby('complainant_ethnicity')\n",
    "    .agg(lambda x: x.mean().days)\n",
    "    .reset_index()\n",
    "    .sort_values(by = 'time_open', ascending = False)\n",
    ")\n",
    "\n",
    "plt.xticks(rotation = 90)\n",
    "(sns.barplot(x = ethnicity_time['complainant_ethnicity'], y = ethnicity_time['time_open'])\n",
    ".set(ylabel = 'time_open (days)', title = 'Complaint Time Open By Ethnicity')\n",
    ")\n"
   ]
  },
  {
   "attachments": {},
   "cell_type": "markdown",
   "metadata": {},
   "source": [
    "As seen in the graph above, there is some variation between the number of days a complaint remains open between the ethnicities of the complainant. Analyzing the proporition of cases that resulted in \"substantiated\" based on the complaintant's ethnicity. "
   ]
  },
  {
   "cell_type": "code",
   "execution_count": 9,
   "metadata": {},
   "outputs": [
    {
     "data": {
      "text/plain": [
       "complainant_ethnicity\n",
       "American Indian    0.359375\n",
       "Asian              0.291353\n",
       "White              0.279195\n",
       "Other Race         0.268833\n",
       "Hispanic           0.244707\n",
       "Black              0.237992\n",
       "Name: unique_mos_id, dtype: float64"
      ]
     },
     "execution_count": 9,
     "metadata": {},
     "output_type": "execute_result"
    }
   ],
   "source": [
    "#Analyzed substantiated proportions based on race\n",
    "total_ethnicity = complaints.groupby('complainant_ethnicity').count()['unique_mos_id']\n",
    "exonerated_ethnicity = (complaints[complaints['disposition_simplified'] == 'Substantiated']\n",
    "    .groupby('complainant_ethnicity')\n",
    "    .count()['unique_mos_id'])\n",
    "\n",
    "props_exonerated = (exonerated_ethnicity/total_ethnicity).sort_values(ascending = False)\n",
    "props_exonerated\n"
   ]
  },
  {
   "attachments": {},
   "cell_type": "markdown",
   "metadata": {},
   "source": [
    "Bar plot of the data found above."
   ]
  },
  {
   "cell_type": "code",
   "execution_count": 10,
   "metadata": {},
   "outputs": [
    {
     "data": {
      "text/plain": [
       "(array([0, 1, 2, 3, 4, 5]),\n",
       " [Text(0, 0, 'American Indian'),\n",
       "  Text(1, 0, 'Asian'),\n",
       "  Text(2, 0, 'White'),\n",
       "  Text(3, 0, 'Other Race'),\n",
       "  Text(4, 0, 'Hispanic'),\n",
       "  Text(5, 0, 'Black')])"
      ]
     },
     "execution_count": 10,
     "metadata": {},
     "output_type": "execute_result"
    },
    {
     "data": {
      "image/png": "[encoded data removed]",
      "text/plain": [
       "<Figure size 432x288 with 1 Axes>"
      ]
     },
     "metadata": {
      "needs_background": "light"
     },
     "output_type": "display_data"
    }
   ],
   "source": [
    "#Plot data\n",
    "sns.barplot(x = props_exonerated.index, y = props_exonerated.values).set(title = 'Proportion Substantiated By race')\n",
    "plt.xticks(rotation = 90)\n"
   ]
  },
  {
   "attachments": {},
   "cell_type": "markdown",
   "metadata": {},
   "source": [
    "## Assessment of Missingness\n",
    "\n",
    "Complainant ethnicity, gender, and age make up the majority of the missing values in the dataset. This could be due to the complainant not wanting these values to affect the board disposition. For  example, some values like being of \"black\" ethnicity could cause the decision to be less in favor of the complainant due to racial bias, causing some complainants to not disclose their ethnicity. This would make the missingness of these columns not missing at random (NMAR). We used a permutation test and found tvd test statistics to show that these columns, mos_gender and complainant_ethnicity, are not dependent on one another.\n"
   ]
  },
  {
   "cell_type": "code",
   "execution_count": 11,
   "metadata": {},
   "outputs": [
    {
     "name": "stdout",
     "output_type": "stream",
     "text": [
      "p-value:  0.088\n"
     ]
    },
    {
     "data": {
      "image/png": "[encoded data removed]",
      "text/plain": [
       "<Figure size 432x288 with 1 Axes>"
      ]
     },
     "metadata": {
      "needs_background": "light"
     },
     "output_type": "display_data"
    }
   ],
   "source": [
    "\n",
    "#Showing columns are dependent on each other\n",
    "x = 'mos_gender'\n",
    "y = 'complainant_ethnicity'\n",
    "shuffled = complaints.copy()\n",
    "shuffled['missing'] = shuffled[y].isna()\n",
    "n_repetitions = 500\n",
    "tvds = []\n",
    "for _ in range(n_repetitions):\n",
    "\n",
    "    # Shuffling gender and assigning back to the DataFrame\n",
    "    shuffled[x] = np.random.permutation(shuffled[x])\n",
    "\n",
    "    # Computing and storing TVD\n",
    "    pivoted = (\n",
    "        shuffled\n",
    "        .pivot_table(index='missing', columns=x, aggfunc='size')\n",
    "        .apply(lambda x: x / x.sum(), axis=1)\n",
    "    )\n",
    "\n",
    "    tvd = pivoted.diff().iloc[:, -1].abs().sum() / 2\n",
    "    tvds.append(tvd)\n",
    "    \n",
    "gender_dist = (\n",
    "    shuffled\n",
    "    .assign(ethnicity_missing=complaints[y].isna())\n",
    "    .pivot_table(index=x, columns='missing', aggfunc='size')\n",
    ")\n",
    "\n",
    "gender_dist = gender_dist / gender_dist.sum()\n",
    "gender_dist\n",
    "obs_tvd = gender_dist.diff(axis=1).iloc[:, -1].abs().sum() / 2\n",
    "pval = np.mean(np.array(tvds) > obs_tvd)\n",
    "pd.Series(tvds).plot(kind='hist', density=True, ec='w', bins=10, title= \"Missingness of Complainant Ethnicity Based on Officer's Gender\", label=\"Simulated TVDs\")\n",
    "plt.axvline(x=obs_tvd, color='red', linewidth=4, label='Observed TVD')\n",
    "plt.legend();\n",
    "print(\"p-value: \", pval)"
   ]
  },
  {
   "attachments": {},
   "cell_type": "markdown",
   "metadata": {},
   "source": [
    "Following the same steps as above, we used a permutation test and tvd test statistics to show data\n",
    "is MAR.\n"
   ]
  },
  {
   "cell_type": "code",
   "execution_count": 12,
   "metadata": {},
   "outputs": [
    {
     "name": "stdout",
     "output_type": "stream",
     "text": [
      "p-value:  0.0\n"
     ]
    },
    {
     "data": {
      "image/png": "[encoded data removed]",
      "text/plain": [
       "<Figure size 432x288 with 1 Axes>"
      ]
     },
     "metadata": {
      "needs_background": "light"
     },
     "output_type": "display_data"
    }
   ],
   "source": [
    "#MAR\n",
    "x = 'allegation'\n",
    "y = 'complainant_ethnicity'\n",
    "shuffled_1 = complaints.copy()\n",
    "shuffled_1['missing'] = shuffled[y].isna()\n",
    "n_repetitions = 500\n",
    "tvds = []\n",
    "for _ in range(n_repetitions):\n",
    "\n",
    "    # Shuffling allegations and assigning back to the DataFrame\n",
    "    shuffled_1[x] = np.random.permutation(shuffled[x])\n",
    "\n",
    "    # Computing and storing TVD\n",
    "    pivoted = (\n",
    "        shuffled_1\n",
    "        .pivot_table(index='missing', columns=x, aggfunc='size')\n",
    "        .apply(lambda x: x / x.sum(), axis=1)\n",
    "    )\n",
    "\n",
    "    tvd = pivoted.diff().iloc[:, -1].abs().sum() / 2\n",
    "    tvds.append(tvd)\n",
    "\n",
    "gender_dist = (\n",
    "    shuffled_1\n",
    "    .assign(ethnicity_missing=complaints[y].isna())\n",
    "    .pivot_table(index=x, columns='missing', aggfunc='size')\n",
    ")\n",
    "\n",
    "gender_dist = gender_dist / gender_dist.sum()\n",
    "gender_dist\n",
    "obs_tvd = gender_dist.diff(axis=1).iloc[:, -1].abs().sum() / 2\n",
    "pval = np.mean(np.array(tvds) > obs_tvd)\n",
    "pd.Series(tvds).plot(kind='hist', density=True, ec='w', bins=10, title= \"Missingness of Complainant Ethnicity Based on Officer's gender\", label='Simulated TVDs')\n",
    "plt.axvline(x=obs_tvd, color='red', linewidth=4, label='Observed TVD')\n",
    "plt.legend();\n",
    "print(\"p-value: \", pval)"
   ]
  },
  {
   "attachments": {},
   "cell_type": "markdown",
   "metadata": {},
   "source": [
    "## Hypothesis Testing\n",
    "\n",
    "The question we will be answering is:\n",
    "\n",
    "*Are white officer vs. non-white complainant cases more likely to go\n",
    "against the complainant?*\n",
    "\n",
    "We will be conducting a permutation test to answer the question, shuffling ethnicity of complainant\n",
    "and only looking at cases involving white officers.\n",
    "\n",
    "- Test Statistic: Difference of Means\n",
    "\n",
    "- Significance Level: 0.05\n",
    "\n",
    "- Null Hypothesis: Mean Difference = 0\n",
    "\n",
    "- Alternative Hypothesis: Mean Difference > 0\n",
    "\n",
    "We chose a permutation test because it compares categorical values as required of this question. Using this test statistic, we are able to see the difference between the two groups we are comparing (white officer vs. non-white complainants and white officer vs. white complainant). The null describes the event where white officer vs non-white complainant cases are equally likely as white officer vs white complainant cases to result in a nonsubstantiated disposition. The alternative describes the event where white officer vs non-white complainant cases are more likely than white officer vs white complainant cases to result in a nonsubstantiated disposition. We view nonsubstantiated disposition (exonerated and unsubstantiated) as against the complainant as it does not work in their favor of disciplining the officer for conduct violations.\n",
    "\n",
    "Generating the obeserved test statistic.\n"
   ]
  },
  {
   "cell_type": "code",
   "execution_count": 13,
   "metadata": {},
   "outputs": [
    {
     "data": {
      "text/plain": [
       "0.024571923494828285"
      ]
     },
     "execution_count": 13,
     "metadata": {},
     "output_type": "execute_result"
    }
   ],
   "source": [
    "#observed test statistic\n",
    "white_officer_vs_nonwhite_complainant = complaints[\n",
    " (complaints['mos_ethnicity'] == 'White') & (complaints['complainant_ethnicity'] != 'White')\n",
    "]\n",
    "\n",
    "against_nonwhite_prop = (\n",
    "    (white_officer_vs_nonwhite_complainant['disposition_simplified'] != 'Substantiated').sum()\n",
    "    /white_officer_vs_nonwhite_complainant.shape[0])\n",
    "\n",
    "white_officer_vs_white_complainant = complaints[\n",
    " (complaints['mos_ethnicity'] == 'White') & (complaints['complainant_ethnicity'] == 'White')\n",
    "]\n",
    "\n",
    "against_white_prop = (\n",
    "    (white_officer_vs_white_complainant['disposition_simplified'] != 'Substantiated').sum()\n",
    "    /white_officer_vs_white_complainant.shape[0])\n",
    "\n",
    "obs_diff = against_nonwhite_prop - against_white_prop\n",
    "obs_diff\n"
   ]
  },
  {
   "attachments": {},
   "cell_type": "markdown",
   "metadata": {},
   "source": [
    "Running the permutation test, shuffling complainants ethnicity(white vs. non-white) and finding a pvalue.\n"
   ]
  },
  {
   "cell_type": "code",
   "execution_count": 33,
   "metadata": {},
   "outputs": [
    {
     "data": {
      "text/plain": [
       "shuffled_is_white\n",
       "False    0.757594\n",
       "True     0.764420\n",
       "Name: against_complainant, dtype: float64"
      ]
     },
     "execution_count": 33,
     "metadata": {},
     "output_type": "execute_result"
    }
   ],
   "source": [
    "white_officers_only = complaints[complaints['mos_ethnicity'] == 'White'].reset_index()\n",
    "white_officers_only['is_white'] = white_officers_only['complainant_ethnicity'] == 'White'\n",
    "white_officers_only['against_complainant'] =white_officers_only['disposition_simplified']!='Substantiated'\n",
    "shuffled = white_officers_only.copy()\n",
    "n_repetitions = 500\n",
    "differences = []\n",
    "shuffled_is_white = (\n",
    "        white_officers_only['is_white']\n",
    "        .sample(frac=1)\n",
    "        .reset_index(drop=True)\n",
    "    )\n",
    "\n",
    "    # Step 2: Put them in a DataFrame\n",
    "shuffled['shuffled_is_white'] = shuffled_is_white\n",
    "group_means = (\n",
    "        shuffled\n",
    "        .groupby('shuffled_is_white')['against_complainant']\n",
    "        .mean()\n",
    "    )\n",
    "group_means"
   ]
  },
  {
   "cell_type": "code",
   "execution_count": 34,
   "metadata": {},
   "outputs": [
    {
     "data": {
      "text/plain": [
       "0.012"
      ]
     },
     "execution_count": 34,
     "metadata": {},
     "output_type": "execute_result"
    }
   ],
   "source": [
    "#Permutation test\n",
    "white_officers_only = complaints[complaints['mos_ethnicity'] == 'White'].reset_index()\n",
    "white_officers_only['is_white'] = white_officers_only['complainant_ethnicity'] == 'White'\n",
    "white_officers_only['against_complainant'] = white_officers_only['disposition_simplified'] != 'Substantiated'\n",
    "shuffled = white_officers_only.copy()\n",
    "n_repetitions = 500\n",
    "differences = []\n",
    "for _ in range(n_repetitions):\n",
    "\n",
    " # Step 1: Shuffle the complainants ethnicities\n",
    "    shuffled_is_white = (\n",
    "        white_officers_only['is_white']\n",
    "        .sample(frac=1)\n",
    "        .reset_index(drop=True)\n",
    "    )\n",
    "\n",
    "    # Step 2: Put them in a DataFrame\n",
    "    shuffled['shuffled_is_white'] = shuffled_is_white\n",
    "\n",
    "    # Step 3: Compute the test statistic\n",
    "    group_means = (\n",
    "        shuffled\n",
    "        .groupby('shuffled_is_white')['against_complainant']\n",
    "        .mean()\n",
    "    )\n",
    "\n",
    "    #print(group_means)\n",
    "    difference = group_means.diff().iloc[-1]\n",
    "\n",
    "    # Step 4: Store the result\n",
    "    differences.append(difference)\n",
    "\n",
    "pval = np.mean(np.array(differences) > obs_diff)\n",
    "pval\n"
   ]
  },
  {
   "attachments": {},
   "cell_type": "markdown",
   "metadata": {},
   "source": [
    "Plotting the mean difference test statistics found above."
   ]
  },
  {
   "cell_type": "code",
   "execution_count": 35,
   "metadata": {},
   "outputs": [
    {
     "data": {
      "image/png": "[encoded data removed]",
      "text/plain": [
       "<Figure size 432x288 with 1 Axes>"
      ]
     },
     "metadata": {
      "needs_background": "light"
     },
     "output_type": "display_data"
    }
   ],
   "source": [
    "#Plot of Differences\n",
    "title = 'Mean Differences (Nonwhite - White Complainants)'\n",
    "pd.Series(differences).plot(kind='hist', density=True, ec='w', bins=10, title=title, label='Simulated Differences in Means')\n",
    "plt.axvline(x=obs_diff, color='red', linewidth=3, label='Observed Difference in Means')\n",
    "plt.legend();"
   ]
  }
 ],
 "metadata": {
  "kernelspec": {
   "display_name": "dsc80",
   "language": "python",
   "name": "python3"
  },
  "language_info": {
   "codemirror_mode": {
    "name": "ipython",
    "version": 3
   },
   "file_extension": ".py",
   "mimetype": "text/x-python",
   "name": "python",
   "nbconvert_exporter": "python",
   "pygments_lexer": "ipython3",
   "version": "3.8.13"
  },
  "orig_nbformat": 4
 },
 "nbformat": 4,
 "nbformat_minor": 2
}
